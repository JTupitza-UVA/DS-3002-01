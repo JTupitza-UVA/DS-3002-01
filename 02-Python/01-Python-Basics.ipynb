{
 "cells": [
  {
   "cell_type": "markdown",
   "id": "7271785b",
   "metadata": {},
   "source": [
    "## Python Fundamentals\n",
    "\n",
    "### 1.0. Importing Libraries"
   ]
  },
  {
   "cell_type": "code",
   "execution_count": 1,
   "id": "1fa476dd",
   "metadata": {},
   "outputs": [],
   "source": [
    "import pandas as pd\n",
    "import numpy as np"
   ]
  },
  {
   "cell_type": "markdown",
   "id": "68d84f30",
   "metadata": {},
   "source": [
    "### 2.0. Variables: Unary Values"
   ]
  },
  {
   "cell_type": "code",
   "execution_count": 11,
   "id": "87f4739a",
   "metadata": {},
   "outputs": [
    {
     "name": "stdout",
     "output_type": "stream",
     "text": [
      "The variable 'my_string' contains the value: 'What is the Answer?' and is of datatype: '<class 'str'>'\n",
      "The variable 'my_number' contains the value: 42 and is of datatype '<class 'int'>'\n"
     ]
    }
   ],
   "source": [
    "my_string = \"What is the Answer?\"\n",
    "my_number = 42\n",
    "\n",
    "print(f\"The variable 'my_string' contains the value: '{my_string}' and is of datatype: '{type(my_string)}'\")\n",
    "print(f\"The variable 'my_number' contains the value: {my_number} and is of datatype: '{type(my_number)}'\")"
   ]
  },
  {
   "cell_type": "markdown",
   "id": "06968b09",
   "metadata": {},
   "source": [
    "### 3.0. Multi-Value Variables: Vectors, Lists, Arrays and Dictionaries"
   ]
  },
  {
   "cell_type": "code",
   "execution_count": 45,
   "id": "65b8a2a8",
   "metadata": {},
   "outputs": [
    {
     "name": "stdout",
     "output_type": "stream",
     "text": [
      "The variable 'my_vector' contains the value: '{0, 1, 2, 3, 'One', 'Three', 'Two'}' and is of datatype: '<class 'set'>'\n",
      "0\n",
      "1\n",
      "2\n",
      "3\n",
      "One\n",
      "Three\n",
      "Two\n"
     ]
    }
   ],
   "source": [
    "my_vector = {0, 1, 2, 3, 'One', 'Two', 'Three'}\n",
    "print(f\"The variable 'my_vector' contains the value: '{my_vector}' and is of datatype: '{type(my_vector)}'\")\n",
    "\n",
    "for i in my_vector:\n",
    "    print(i)"
   ]
  },
  {
   "cell_type": "code",
   "execution_count": 38,
   "id": "f4952736",
   "metadata": {
    "scrolled": true
   },
   "outputs": [
    {
     "name": "stdout",
     "output_type": "stream",
     "text": [
      "The variable 'my_string' contains the value: '['One', 'Two', 'Three', 'Four', 'Five']' and is of datatype: '<class 'list'>'\n",
      "Item number: One\n",
      "Item number: Two\n",
      "Item number: Three\n",
      "Item number: Four\n",
      "Item number: Five\n",
      "One\n"
     ]
    },
    {
     "data": {
      "text/plain": [
       "'Five'"
      ]
     },
     "execution_count": 38,
     "metadata": {},
     "output_type": "execute_result"
    }
   ],
   "source": [
    "my_list = ['One','Two','Three','Four','Five']\n",
    "print(f\"The variable 'my_string' contains the value: '{my_list}' and is of datatype: '{type(my_list)}'\")\n",
    "\n",
    "for item in my_list:\n",
    "    print(f\"Item number: {item}\")"
   ]
  },
  {
   "cell_type": "code",
   "execution_count": 40,
   "id": "b8349330",
   "metadata": {},
   "outputs": [
    {
     "data": {
      "text/plain": [
       "'Five'"
      ]
     },
     "execution_count": 40,
     "metadata": {},
     "output_type": "execute_result"
    }
   ],
   "source": [
    "my_list[0]\n",
    "my_list[-1]"
   ]
  },
  {
   "cell_type": "code",
   "execution_count": 34,
   "id": "085da98d",
   "metadata": {},
   "outputs": [
    {
     "name": "stdout",
     "output_type": "stream",
     "text": [
      "The variable 'my_dictionary' contains the value: '{0: 'John', 1: 'Paul', 2: 'George', 3: 'Pete', 4: 'Ringo'}' and is of datatype: '<class 'dict'>'\n",
      "Each Item in My Dictionary Contains a Key 0, and a Value 'John'\n",
      "Each Item in My Dictionary Contains a Key 1, and a Value 'Paul'\n",
      "Each Item in My Dictionary Contains a Key 2, and a Value 'George'\n",
      "Each Item in My Dictionary Contains a Key 3, and a Value 'Pete'\n",
      "Each Item in My Dictionary Contains a Key 4, and a Value 'Ringo'\n"
     ]
    }
   ],
   "source": [
    "my_dictionary = {0 : 'John',\n",
    "                 1 : 'Paul',\n",
    "                 2 : 'George',\n",
    "                 3 : 'Pete',\n",
    "                 4 : 'Ringo'\n",
    "                }\n",
    "\n",
    "print(f\"The variable 'my_dictionary' contains the value: '{my_dictionary}' and is of datatype: '{type(my_dictionary)}'\")\n",
    "\n",
    "for i in my_dictionary:\n",
    "    print(f\"Each Item in My Dictionary Contains a Key {i}, and a Value '{my_dictionary[i]}'\")"
   ]
  },
  {
   "cell_type": "code",
   "execution_count": null,
   "id": "ca5f2297",
   "metadata": {},
   "outputs": [],
   "source": []
  },
  {
   "cell_type": "code",
   "execution_count": null,
   "id": "3185c2f8",
   "metadata": {},
   "outputs": [],
   "source": []
  },
  {
   "cell_type": "code",
   "execution_count": null,
   "id": "fda8883d",
   "metadata": {},
   "outputs": [],
   "source": []
  },
  {
   "cell_type": "code",
   "execution_count": null,
   "id": "85a64624",
   "metadata": {},
   "outputs": [],
   "source": []
  }
 ],
 "metadata": {
  "kernelspec": {
   "display_name": "Python 3 (ipykernel)",
   "language": "python",
   "name": "python3"
  },
  "language_info": {
   "codemirror_mode": {
    "name": "ipython",
    "version": 3
   },
   "file_extension": ".py",
   "mimetype": "text/x-python",
   "name": "python",
   "nbconvert_exporter": "python",
   "pygments_lexer": "ipython3",
   "version": "3.9.7"
  }
 },
 "nbformat": 4,
 "nbformat_minor": 5
}
