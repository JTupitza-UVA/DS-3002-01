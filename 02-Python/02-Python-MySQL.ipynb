{
 "cells": [
  {
   "cell_type": "markdown",
   "id": "74d174b5",
   "metadata": {},
   "source": [
    "## Using Python to Query MySQL\n",
    "This notebook demonstrates using a couple of different database connectivity libraries to connect to and query a MySQL database.\n",
    "- **PyMySQL** library\n",
    "- MySQL's Native **mysql.connector** library\n",
    "\n",
    "### 1.0. Prerequisites\n",
    "\n",
    "#### 1.1. First, you must **install** the libaries into your *python* environment by executing the following commands in a *Terminal window*\n",
    "- \\$ python3 -m pip install PyMySQL\n",
    "- \\$ python3 -m pip install mysql\n",
    "\n",
    "#### 1.2. Next, as with all Jupyter Notebooks, you need to **Import** the libaries that you'll be working with in the notebook,"
   ]
  },
  {
   "cell_type": "code",
   "execution_count": 1,
   "id": "c1c46e6b",
   "metadata": {},
   "outputs": [],
   "source": [
    "import pymysql\n",
    "import mysql.connector\n",
    "from sqlalchemy import create_engine\n",
    "\n",
    "import pandas as pd"
   ]
  },
  {
   "cell_type": "markdown",
   "id": "4128c8b5",
   "metadata": {},
   "source": [
    "#### 1.3. And then, Assign Connection Variables for the MySQL Server & Database with which You'll be Working "
   ]
  },
  {
   "cell_type": "code",
   "execution_count": 2,
   "id": "e45f728e",
   "metadata": {},
   "outputs": [],
   "source": [
    "host_name = \"localhost\"\n",
    "host_ip = \"127.0.0.1\"\n",
    "port = \"3306\"\n",
    "\n",
    "user_id = \"root\"\n",
    "pwd = \"P@ssw0rd1\"\n",
    "db_name = \"northwind\""
   ]
  },
  {
   "cell_type": "markdown",
   "id": "972fedd1",
   "metadata": {},
   "source": [
    "### 2.0. Using the PyMySQL Library\n",
    "#### 2.1. Using a Cursor to Iterate the Rows Returned"
   ]
  },
  {
   "cell_type": "code",
   "execution_count": 3,
   "id": "8c8afe4f",
   "metadata": {},
   "outputs": [
    {
     "name": "stdout",
     "output_type": "stream",
     "text": [
      "('4', 1, 'NWTB-1', 'Northwind Traders Chai', None, Decimal('13.5000'), Decimal('18.0000'), 10, 40, '10 boxes x 20 bags', 0, 10, 'Beverages', b'')\n",
      "('10', 3, 'NWTCO-3', 'Northwind Traders Syrup', None, Decimal('7.5000'), Decimal('10.0000'), 25, 100, '12 - 550 ml bottles', 0, 25, 'Condiments', b'')\n",
      "('10', 4, 'NWTCO-4', 'Northwind Traders Cajun Seasoning', None, Decimal('16.5000'), Decimal('22.0000'), 10, 40, '48 - 6 oz jars', 0, 10, 'Condiments', b'')\n",
      "('10', 5, 'NWTO-5', 'Northwind Traders Olive Oil', None, Decimal('16.0125'), Decimal('21.3500'), 10, 40, '36 boxes', 0, 10, 'Oil', b'')\n",
      "('2;6', 6, 'NWTJP-6', 'Northwind Traders Boysenberry Spread', None, Decimal('18.7500'), Decimal('25.0000'), 25, 100, '12 - 8 oz jars', 0, 25, 'Jams, Preserves', b'')\n"
     ]
    }
   ],
   "source": [
    "conn = pymysql.connect(host=host_name, user=user_id, password=pwd, database=db_name)\n",
    "cursor = conn.cursor()\n",
    "\n",
    "try:\n",
    "    cursor.execute('SELECT * FROM products;')\n",
    "    \n",
    "    for row in cursor.fetchmany(size=5):\n",
    "        print(row)\n",
    "        \n",
    "    cursor.close()\n",
    "    \n",
    "except:\n",
    "    print (\"Error: unable to fetch data\")\n",
    "    \n",
    "conn.close()"
   ]
  },
  {
   "cell_type": "code",
   "execution_count": 4,
   "id": "56d4c86b",
   "metadata": {},
   "outputs": [
    {
     "name": "stdout",
     "output_type": "stream",
     "text": [
      "{'supplier_ids': '2;6', 'id': 20, 'product_code': 'NWTJP-6', 'product_name': 'Northwind Traders Marmalade', 'description': None, 'standard_cost': Decimal('60.7500'), 'list_price': Decimal('81.0000'), 'reorder_level': 10, 'target_level': 40, 'quantity_per_unit': '30 gift boxes', 'discontinued': 0, 'minimum_reorder_quantity': 10, 'category': 'Jams, Preserves', 'attachments': b''}\n",
      "{'supplier_ids': '2', 'id': 51, 'product_code': 'NWTDFN-51', 'product_name': 'Northwind Traders Dried Apples', 'description': None, 'standard_cost': Decimal('39.7500'), 'list_price': Decimal('53.0000'), 'reorder_level': 10, 'target_level': 40, 'quantity_per_unit': '50 - 300 g pkgs.', 'discontinued': 0, 'minimum_reorder_quantity': 10, 'category': 'Dried Fruit & Nuts', 'attachments': b''}\n",
      "{'supplier_ids': '3;4', 'id': 43, 'product_code': 'NWTB-43', 'product_name': 'Northwind Traders Coffee', 'description': None, 'standard_cost': Decimal('34.5000'), 'list_price': Decimal('46.0000'), 'reorder_level': 25, 'target_level': 100, 'quantity_per_unit': '16 - 500 g tins', 'discontinued': 0, 'minimum_reorder_quantity': 25, 'category': 'Beverages', 'attachments': b''}\n",
      "{'supplier_ids': '8', 'id': 8, 'product_code': 'NWTS-8', 'product_name': 'Northwind Traders Curry Sauce', 'description': None, 'standard_cost': Decimal('30.0000'), 'list_price': Decimal('40.0000'), 'reorder_level': 10, 'target_level': 40, 'quantity_per_unit': '12 - 12 oz jars', 'discontinued': 0, 'minimum_reorder_quantity': 10, 'category': 'Sauces', 'attachments': b''}\n",
      "{'supplier_ids': '6', 'id': 17, 'product_code': 'NWTCFV-17', 'product_name': 'Northwind Traders Fruit Cocktail', 'description': None, 'standard_cost': Decimal('29.2500'), 'list_price': Decimal('39.0000'), 'reorder_level': 10, 'target_level': 40, 'quantity_per_unit': '15.25 OZ', 'discontinued': 0, 'minimum_reorder_quantity': 10, 'category': 'Canned Fruit & Vegetables', 'attachments': b''}\n"
     ]
    }
   ],
   "source": [
    "conn = pymysql.connect(host=host_name, user=user_id, password=pwd, database=db_name)\n",
    "cursor = conn.cursor(pymysql.cursors.DictCursor)\n",
    "\n",
    "try:\n",
    "    cursor.execute('SELECT * FROM products ORDER BY list_price DESC LIMIT 5;')\n",
    "    \n",
    "    for row in cursor.fetchall():\n",
    "        print(row)\n",
    "        \n",
    "    cursor.close()\n",
    "    \n",
    "except:\n",
    "    print (\"Error: unable to fetch data\")\n",
    "    \n",
    "conn.close()"
   ]
  },
  {
   "cell_type": "markdown",
   "id": "423311f5",
   "metadata": {},
   "source": [
    "#### 2.2. Using the Pandas read_sql() Method to Return a DataFrame"
   ]
  },
  {
   "cell_type": "code",
   "execution_count": 5,
   "id": "94065963",
   "metadata": {},
   "outputs": [
    {
     "data": {
      "text/html": [
       "<div>\n",
       "<style scoped>\n",
       "    .dataframe tbody tr th:only-of-type {\n",
       "        vertical-align: middle;\n",
       "    }\n",
       "\n",
       "    .dataframe tbody tr th {\n",
       "        vertical-align: top;\n",
       "    }\n",
       "\n",
       "    .dataframe thead th {\n",
       "        text-align: right;\n",
       "    }\n",
       "</style>\n",
       "<table border=\"1\" class=\"dataframe\">\n",
       "  <thead>\n",
       "    <tr style=\"text-align: right;\">\n",
       "      <th></th>\n",
       "      <th>supplier_ids</th>\n",
       "      <th>id</th>\n",
       "      <th>product_code</th>\n",
       "      <th>product_name</th>\n",
       "      <th>description</th>\n",
       "      <th>standard_cost</th>\n",
       "      <th>list_price</th>\n",
       "      <th>reorder_level</th>\n",
       "      <th>target_level</th>\n",
       "      <th>quantity_per_unit</th>\n",
       "      <th>discontinued</th>\n",
       "      <th>minimum_reorder_quantity</th>\n",
       "      <th>category</th>\n",
       "      <th>attachments</th>\n",
       "    </tr>\n",
       "  </thead>\n",
       "  <tbody>\n",
       "    <tr>\n",
       "      <th>0</th>\n",
       "      <td>2;6</td>\n",
       "      <td>20</td>\n",
       "      <td>NWTJP-6</td>\n",
       "      <td>Northwind Traders Marmalade</td>\n",
       "      <td>None</td>\n",
       "      <td>60.75</td>\n",
       "      <td>81.0</td>\n",
       "      <td>10</td>\n",
       "      <td>40</td>\n",
       "      <td>30 gift boxes</td>\n",
       "      <td>0</td>\n",
       "      <td>10.0</td>\n",
       "      <td>Jams, Preserves</td>\n",
       "      <td>b''</td>\n",
       "    </tr>\n",
       "    <tr>\n",
       "      <th>1</th>\n",
       "      <td>2</td>\n",
       "      <td>51</td>\n",
       "      <td>NWTDFN-51</td>\n",
       "      <td>Northwind Traders Dried Apples</td>\n",
       "      <td>None</td>\n",
       "      <td>39.75</td>\n",
       "      <td>53.0</td>\n",
       "      <td>10</td>\n",
       "      <td>40</td>\n",
       "      <td>50 - 300 g pkgs.</td>\n",
       "      <td>0</td>\n",
       "      <td>10.0</td>\n",
       "      <td>Dried Fruit &amp; Nuts</td>\n",
       "      <td>b''</td>\n",
       "    </tr>\n",
       "    <tr>\n",
       "      <th>2</th>\n",
       "      <td>3;4</td>\n",
       "      <td>43</td>\n",
       "      <td>NWTB-43</td>\n",
       "      <td>Northwind Traders Coffee</td>\n",
       "      <td>None</td>\n",
       "      <td>34.50</td>\n",
       "      <td>46.0</td>\n",
       "      <td>25</td>\n",
       "      <td>100</td>\n",
       "      <td>16 - 500 g tins</td>\n",
       "      <td>0</td>\n",
       "      <td>25.0</td>\n",
       "      <td>Beverages</td>\n",
       "      <td>b''</td>\n",
       "    </tr>\n",
       "    <tr>\n",
       "      <th>3</th>\n",
       "      <td>8</td>\n",
       "      <td>8</td>\n",
       "      <td>NWTS-8</td>\n",
       "      <td>Northwind Traders Curry Sauce</td>\n",
       "      <td>None</td>\n",
       "      <td>30.00</td>\n",
       "      <td>40.0</td>\n",
       "      <td>10</td>\n",
       "      <td>40</td>\n",
       "      <td>12 - 12 oz jars</td>\n",
       "      <td>0</td>\n",
       "      <td>10.0</td>\n",
       "      <td>Sauces</td>\n",
       "      <td>b''</td>\n",
       "    </tr>\n",
       "    <tr>\n",
       "      <th>4</th>\n",
       "      <td>6</td>\n",
       "      <td>17</td>\n",
       "      <td>NWTCFV-17</td>\n",
       "      <td>Northwind Traders Fruit Cocktail</td>\n",
       "      <td>None</td>\n",
       "      <td>29.25</td>\n",
       "      <td>39.0</td>\n",
       "      <td>10</td>\n",
       "      <td>40</td>\n",
       "      <td>15.25 OZ</td>\n",
       "      <td>0</td>\n",
       "      <td>10.0</td>\n",
       "      <td>Canned Fruit &amp; Vegetables</td>\n",
       "      <td>b''</td>\n",
       "    </tr>\n",
       "  </tbody>\n",
       "</table>\n",
       "</div>"
      ],
      "text/plain": [
       "  supplier_ids  id product_code                      product_name description  \\\n",
       "0          2;6  20      NWTJP-6       Northwind Traders Marmalade        None   \n",
       "1            2  51    NWTDFN-51    Northwind Traders Dried Apples        None   \n",
       "2          3;4  43      NWTB-43          Northwind Traders Coffee        None   \n",
       "3            8   8       NWTS-8     Northwind Traders Curry Sauce        None   \n",
       "4            6  17    NWTCFV-17  Northwind Traders Fruit Cocktail        None   \n",
       "\n",
       "   standard_cost  list_price  reorder_level  target_level quantity_per_unit  \\\n",
       "0          60.75        81.0             10            40     30 gift boxes   \n",
       "1          39.75        53.0             10            40  50 - 300 g pkgs.   \n",
       "2          34.50        46.0             25           100   16 - 500 g tins   \n",
       "3          30.00        40.0             10            40   12 - 12 oz jars   \n",
       "4          29.25        39.0             10            40          15.25 OZ   \n",
       "\n",
       "   discontinued  minimum_reorder_quantity                   category  \\\n",
       "0             0                      10.0            Jams, Preserves   \n",
       "1             0                      10.0         Dried Fruit & Nuts   \n",
       "2             0                      25.0                  Beverages   \n",
       "3             0                      10.0                     Sauces   \n",
       "4             0                      10.0  Canned Fruit & Vegetables   \n",
       "\n",
       "  attachments  \n",
       "0         b''  \n",
       "1         b''  \n",
       "2         b''  \n",
       "3         b''  \n",
       "4         b''  "
      ]
     },
     "execution_count": 5,
     "metadata": {},
     "output_type": "execute_result"
    }
   ],
   "source": [
    "conn = pymysql.connect(host=host_name, user=user_id, password=pwd, database=db_name)\n",
    "\n",
    "df = pd.read_sql(\"SELECT * FROM products ORDER BY list_price DESC;\", conn)\n",
    "\n",
    "conn.close()\n",
    "df.head()"
   ]
  },
  {
   "cell_type": "markdown",
   "id": "54377f52",
   "metadata": {},
   "source": [
    "### 3.0. Using the MySQL Native Connection Library\n",
    "#### 3.1. Using a Cursor to Iterate the Rows Returned"
   ]
  },
  {
   "cell_type": "code",
   "execution_count": 6,
   "id": "fad4f7da",
   "metadata": {},
   "outputs": [],
   "source": [
    "lbound = 15.00\n",
    "ubound = 20.00\n",
    "\n",
    "sql_query = \"\"\"\n",
    "    SELECT id AS product_id\n",
    "        , product_name\n",
    "        , list_price\n",
    "    FROM northwind.products\n",
    "    WHERE list_price BETWEEN %s AND %s\n",
    "    ORDER BY list_price DESC;\n",
    "\"\"\""
   ]
  },
  {
   "cell_type": "code",
   "execution_count": 7,
   "id": "72b02b43",
   "metadata": {},
   "outputs": [],
   "source": [
    "conn = mysql.connector.connect(user=user_id, password=pwd, host=host_ip, database=db_name)"
   ]
  },
  {
   "cell_type": "code",
   "execution_count": 8,
   "id": "06bece02",
   "metadata": {},
   "outputs": [
    {
     "name": "stdout",
     "output_type": "stream",
     "text": [
      "57, Northwind Traders Ravioli was sold for 19.5000\n",
      "40, Northwind Traders Crab Meat was sold for 18.4000\n",
      "1, Northwind Traders Chai was sold for 18.0000\n",
      "66, Northwind Traders Tomato Sauce was sold for 17.0000\n",
      "86, Northwind Traders Cake Mix was sold for 15.9900\n"
     ]
    }
   ],
   "source": [
    "cursor = conn.cursor()\n",
    "\n",
    "try:\n",
    "    cursor.execute(sql_query, (lbound, ubound))\n",
    "    \n",
    "    for (product_id, product_name, list_price) in cursor:\n",
    "        print(\"{}, {} was sold for {}\".format(product_id, product_name, list_price))\n",
    "        \n",
    "    cursor.close()\n",
    "    \n",
    "except:\n",
    "    print (\"Error: unable to fetch data\")   "
   ]
  },
  {
   "cell_type": "code",
   "execution_count": 9,
   "id": "28c84292",
   "metadata": {},
   "outputs": [
    {
     "name": "stdout",
     "output_type": "stream",
     "text": [
      "(57, 'Northwind Traders Ravioli', Decimal('19.5000'))\n",
      "(40, 'Northwind Traders Crab Meat', Decimal('18.4000'))\n",
      "(1, 'Northwind Traders Chai', Decimal('18.0000'))\n",
      "(66, 'Northwind Traders Tomato Sauce', Decimal('17.0000'))\n",
      "(86, 'Northwind Traders Cake Mix', Decimal('15.9900'))\n"
     ]
    }
   ],
   "source": [
    "cursor = conn.cursor()\n",
    "\n",
    "try:\n",
    "    cursor.execute(sql_query, (lbound, ubound))\n",
    "    \n",
    "    row = cursor.fetchone() \n",
    "    while row:\n",
    "        print(row)\n",
    "        row = cursor.fetchone()\n",
    "        \n",
    "    cursor.close()\n",
    "    \n",
    "except:\n",
    "    print (\"Error: unable to fetch data\")"
   ]
  },
  {
   "cell_type": "code",
   "execution_count": 10,
   "id": "714e4b61",
   "metadata": {},
   "outputs": [],
   "source": [
    "conn.close()"
   ]
  },
  {
   "cell_type": "markdown",
   "id": "7f8cf097",
   "metadata": {},
   "source": [
    "#### 3.2. Using Pandas read_sql() Method to Return a DataFrame"
   ]
  },
  {
   "cell_type": "code",
   "execution_count": 11,
   "id": "12c6382b",
   "metadata": {},
   "outputs": [
    {
     "name": "stdout",
     "output_type": "stream",
     "text": [
      "\n",
      "    SELECT id AS product_id\n",
      "        , product_name\n",
      "        , list_price\n",
      "    FROM northwind.products\n",
      "    WHERE list_price BETWEEN 15.0 AND 20.0\n",
      "    ORDER BY list_price DESC;\n",
      "\n"
     ]
    }
   ],
   "source": [
    "lbound = 15.00\n",
    "ubound = 20.00\n",
    "\n",
    "sql_query = \"\"\"\n",
    "    SELECT id AS product_id\n",
    "        , product_name\n",
    "        , list_price\n",
    "    FROM northwind.products\n",
    "    WHERE list_price BETWEEN {0} AND {1}\n",
    "    ORDER BY list_price DESC;\n",
    "\"\"\".format(lbound, ubound)\n",
    "\n",
    "print(sql_query)"
   ]
  },
  {
   "cell_type": "code",
   "execution_count": 12,
   "id": "f506d10e",
   "metadata": {},
   "outputs": [
    {
     "data": {
      "text/html": [
       "<div>\n",
       "<style scoped>\n",
       "    .dataframe tbody tr th:only-of-type {\n",
       "        vertical-align: middle;\n",
       "    }\n",
       "\n",
       "    .dataframe tbody tr th {\n",
       "        vertical-align: top;\n",
       "    }\n",
       "\n",
       "    .dataframe thead th {\n",
       "        text-align: right;\n",
       "    }\n",
       "</style>\n",
       "<table border=\"1\" class=\"dataframe\">\n",
       "  <thead>\n",
       "    <tr style=\"text-align: right;\">\n",
       "      <th></th>\n",
       "      <th>product_id</th>\n",
       "      <th>product_name</th>\n",
       "      <th>list_price</th>\n",
       "    </tr>\n",
       "  </thead>\n",
       "  <tbody>\n",
       "    <tr>\n",
       "      <th>0</th>\n",
       "      <td>57</td>\n",
       "      <td>Northwind Traders Ravioli</td>\n",
       "      <td>19.50</td>\n",
       "    </tr>\n",
       "    <tr>\n",
       "      <th>1</th>\n",
       "      <td>40</td>\n",
       "      <td>Northwind Traders Crab Meat</td>\n",
       "      <td>18.40</td>\n",
       "    </tr>\n",
       "    <tr>\n",
       "      <th>2</th>\n",
       "      <td>1</td>\n",
       "      <td>Northwind Traders Chai</td>\n",
       "      <td>18.00</td>\n",
       "    </tr>\n",
       "    <tr>\n",
       "      <th>3</th>\n",
       "      <td>66</td>\n",
       "      <td>Northwind Traders Tomato Sauce</td>\n",
       "      <td>17.00</td>\n",
       "    </tr>\n",
       "    <tr>\n",
       "      <th>4</th>\n",
       "      <td>86</td>\n",
       "      <td>Northwind Traders Cake Mix</td>\n",
       "      <td>15.99</td>\n",
       "    </tr>\n",
       "  </tbody>\n",
       "</table>\n",
       "</div>"
      ],
      "text/plain": [
       "   product_id                    product_name  list_price\n",
       "0          57       Northwind Traders Ravioli       19.50\n",
       "1          40     Northwind Traders Crab Meat       18.40\n",
       "2           1          Northwind Traders Chai       18.00\n",
       "3          66  Northwind Traders Tomato Sauce       17.00\n",
       "4          86      Northwind Traders Cake Mix       15.99"
      ]
     },
     "execution_count": 12,
     "metadata": {},
     "output_type": "execute_result"
    }
   ],
   "source": [
    "configs = {\n",
    "  'user': user_id,\n",
    "  'password': pwd,\n",
    "  'host': host_name,\n",
    "  'database': db_name,\n",
    "  'raise_on_warnings': True\n",
    "}\n",
    "\n",
    "conn = mysql.connector.connect(**configs)\n",
    "\n",
    "df = pd.read_sql(sql_query, conn)\n",
    "\n",
    "conn.close()\n",
    "df.tail()"
   ]
  },
  {
   "cell_type": "markdown",
   "id": "9d789a37",
   "metadata": {},
   "source": [
    "### 4.0 Define Helper Functions to Encapsulate and Abstract the Implementation Details"
   ]
  },
  {
   "cell_type": "code",
   "execution_count": 13,
   "id": "9fe59b25",
   "metadata": {},
   "outputs": [],
   "source": [
    "lbound = 15.00\n",
    "ubound = 20.00\n",
    "\n",
    "sql_query = \"\"\"\n",
    "    SELECT id AS product_id\n",
    "        , product_name\n",
    "        , list_price\n",
    "    FROM northwind.products\n",
    "    WHERE list_price BETWEEN {0} AND {1}\n",
    "    ORDER BY list_price DESC;\n",
    "\"\"\".format(lbound, ubound)"
   ]
  },
  {
   "cell_type": "markdown",
   "id": "116455d1",
   "metadata": {},
   "source": [
    "#### 4.1. Using Individual Connection Parameters"
   ]
  },
  {
   "cell_type": "code",
   "execution_count": 14,
   "id": "27bda596",
   "metadata": {},
   "outputs": [],
   "source": [
    "def get_pymysql_dataframe(host, user, password, database_name, sql_query_string):\n",
    "    connection = pymysql.connect(host=host, user=user, password=password, database=database_name)\n",
    "    dframe = pd.read_sql(sql_query_string, connection)\n",
    "    connection.close()\n",
    "    \n",
    "    return dframe"
   ]
  },
  {
   "cell_type": "code",
   "execution_count": 15,
   "id": "11bcbd44",
   "metadata": {},
   "outputs": [
    {
     "data": {
      "text/html": [
       "<div>\n",
       "<style scoped>\n",
       "    .dataframe tbody tr th:only-of-type {\n",
       "        vertical-align: middle;\n",
       "    }\n",
       "\n",
       "    .dataframe tbody tr th {\n",
       "        vertical-align: top;\n",
       "    }\n",
       "\n",
       "    .dataframe thead th {\n",
       "        text-align: right;\n",
       "    }\n",
       "</style>\n",
       "<table border=\"1\" class=\"dataframe\">\n",
       "  <thead>\n",
       "    <tr style=\"text-align: right;\">\n",
       "      <th></th>\n",
       "      <th>product_id</th>\n",
       "      <th>product_name</th>\n",
       "      <th>list_price</th>\n",
       "    </tr>\n",
       "  </thead>\n",
       "  <tbody>\n",
       "    <tr>\n",
       "      <th>0</th>\n",
       "      <td>57</td>\n",
       "      <td>Northwind Traders Ravioli</td>\n",
       "      <td>19.50</td>\n",
       "    </tr>\n",
       "    <tr>\n",
       "      <th>1</th>\n",
       "      <td>40</td>\n",
       "      <td>Northwind Traders Crab Meat</td>\n",
       "      <td>18.40</td>\n",
       "    </tr>\n",
       "    <tr>\n",
       "      <th>2</th>\n",
       "      <td>1</td>\n",
       "      <td>Northwind Traders Chai</td>\n",
       "      <td>18.00</td>\n",
       "    </tr>\n",
       "    <tr>\n",
       "      <th>3</th>\n",
       "      <td>66</td>\n",
       "      <td>Northwind Traders Tomato Sauce</td>\n",
       "      <td>17.00</td>\n",
       "    </tr>\n",
       "    <tr>\n",
       "      <th>4</th>\n",
       "      <td>86</td>\n",
       "      <td>Northwind Traders Cake Mix</td>\n",
       "      <td>15.99</td>\n",
       "    </tr>\n",
       "  </tbody>\n",
       "</table>\n",
       "</div>"
      ],
      "text/plain": [
       "   product_id                    product_name  list_price\n",
       "0          57       Northwind Traders Ravioli       19.50\n",
       "1          40     Northwind Traders Crab Meat       18.40\n",
       "2           1          Northwind Traders Chai       18.00\n",
       "3          66  Northwind Traders Tomato Sauce       17.00\n",
       "4          86      Northwind Traders Cake Mix       15.99"
      ]
     },
     "execution_count": 15,
     "metadata": {},
     "output_type": "execute_result"
    }
   ],
   "source": [
    "df1 = get_pymysql_dataframe(host_name, user_id, pwd, db_name, sql_query)\n",
    "df1.head()"
   ]
  },
  {
   "cell_type": "code",
   "execution_count": 37,
   "id": "38c5c071",
   "metadata": {},
   "outputs": [
    {
     "name": "stdout",
     "output_type": "stream",
     "text": [
      "Shape: (5, 3)\n",
      "Datatypes:\n",
      "product_id        int64\n",
      "product_name     object\n",
      "list_price      float64\n",
      "dtype: object\n"
     ]
    }
   ],
   "source": [
    "print(\"Shape: {}\\n\".format(df1.shape))\n",
    "print(\"Datatypes:\\n{}\".format(df1.dtypes))"
   ]
  },
  {
   "cell_type": "markdown",
   "id": "4c223022",
   "metadata": {},
   "source": [
    "#### 4.2. Using a Configurations Dictionary"
   ]
  },
  {
   "cell_type": "code",
   "execution_count": 16,
   "id": "b2dab015",
   "metadata": {},
   "outputs": [],
   "source": [
    "def get_mysql_dataframe(sql_query_string, args):\n",
    "    connection = mysql.connector.connect(**args)\n",
    "    dframe = pd.read_sql(sql_query_string, connection)\n",
    "    connection.close()\n",
    "    \n",
    "    return dframe"
   ]
  },
  {
   "cell_type": "code",
   "execution_count": 17,
   "id": "90e82c8b",
   "metadata": {},
   "outputs": [
    {
     "data": {
      "text/html": [
       "<div>\n",
       "<style scoped>\n",
       "    .dataframe tbody tr th:only-of-type {\n",
       "        vertical-align: middle;\n",
       "    }\n",
       "\n",
       "    .dataframe tbody tr th {\n",
       "        vertical-align: top;\n",
       "    }\n",
       "\n",
       "    .dataframe thead th {\n",
       "        text-align: right;\n",
       "    }\n",
       "</style>\n",
       "<table border=\"1\" class=\"dataframe\">\n",
       "  <thead>\n",
       "    <tr style=\"text-align: right;\">\n",
       "      <th></th>\n",
       "      <th>product_id</th>\n",
       "      <th>product_name</th>\n",
       "      <th>list_price</th>\n",
       "    </tr>\n",
       "  </thead>\n",
       "  <tbody>\n",
       "    <tr>\n",
       "      <th>0</th>\n",
       "      <td>57</td>\n",
       "      <td>Northwind Traders Ravioli</td>\n",
       "      <td>19.50</td>\n",
       "    </tr>\n",
       "    <tr>\n",
       "      <th>1</th>\n",
       "      <td>40</td>\n",
       "      <td>Northwind Traders Crab Meat</td>\n",
       "      <td>18.40</td>\n",
       "    </tr>\n",
       "    <tr>\n",
       "      <th>2</th>\n",
       "      <td>1</td>\n",
       "      <td>Northwind Traders Chai</td>\n",
       "      <td>18.00</td>\n",
       "    </tr>\n",
       "    <tr>\n",
       "      <th>3</th>\n",
       "      <td>66</td>\n",
       "      <td>Northwind Traders Tomato Sauce</td>\n",
       "      <td>17.00</td>\n",
       "    </tr>\n",
       "    <tr>\n",
       "      <th>4</th>\n",
       "      <td>86</td>\n",
       "      <td>Northwind Traders Cake Mix</td>\n",
       "      <td>15.99</td>\n",
       "    </tr>\n",
       "  </tbody>\n",
       "</table>\n",
       "</div>"
      ],
      "text/plain": [
       "   product_id                    product_name  list_price\n",
       "0          57       Northwind Traders Ravioli       19.50\n",
       "1          40     Northwind Traders Crab Meat       18.40\n",
       "2           1          Northwind Traders Chai       18.00\n",
       "3          66  Northwind Traders Tomato Sauce       17.00\n",
       "4          86      Northwind Traders Cake Mix       15.99"
      ]
     },
     "execution_count": 17,
     "metadata": {},
     "output_type": "execute_result"
    }
   ],
   "source": [
    "df2 = get_mysql_dataframe(sql_query, configs)\n",
    "df2.head()"
   ]
  },
  {
   "cell_type": "code",
   "execution_count": 22,
   "id": "cace27d9",
   "metadata": {},
   "outputs": [
    {
     "name": "stdout",
     "output_type": "stream",
     "text": [
      "Shape: 5 Observations x 3 Features\n"
     ]
    },
    {
     "data": {
      "text/plain": [
       "product_id      5\n",
       "product_name    5\n",
       "list_price      5\n",
       "dtype: int64"
      ]
     },
     "execution_count": 22,
     "metadata": {},
     "output_type": "execute_result"
    }
   ],
   "source": [
    "print(f\"Shape: {df2.shape[0]} Observations x {df2.shape[1]} Features\")\n",
    "df2.nunique()"
   ]
  }
 ],
 "metadata": {
  "kernelspec": {
   "display_name": "Python 3 (ipykernel)",
   "language": "python",
   "name": "python3"
  },
  "language_info": {
   "codemirror_mode": {
    "name": "ipython",
    "version": 3
   },
   "file_extension": ".py",
   "mimetype": "text/x-python",
   "name": "python",
   "nbconvert_exporter": "python",
   "pygments_lexer": "ipython3",
   "version": "3.9.7"
  }
 },
 "nbformat": 4,
 "nbformat_minor": 5
}
